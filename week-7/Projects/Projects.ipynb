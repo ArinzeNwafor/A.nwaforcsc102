{
 "cells": [
  {
   "cell_type": "code",
   "execution_count": 8,
   "metadata": {},
   "outputs": [
    {
     "name": "stdout",
     "output_type": "stream",
     "text": [
      "Welcome, Ayomide!\n",
      "Employee Details:\n",
      "Surname: ADEWUMI\n",
      "First Name: Ayomide\n",
      "Department: Accounting\n",
      "jt-ventrues.csv dataset is attached\n"
     ]
    }
   ],
   "source": [
    "# project 1\n",
    "# a python function program that takes a user's name and department, then checks if he/she is an employee.\n",
    "\n",
    "import csv\n",
    "\n",
    "def verify_employee():\n",
    "    name = input(\"Enter employee's first name: \")\n",
    "    department = input(\"Enter employee's department: \")\n",
    "\n",
    "    with open('jt-ventures.csv', 'r') as file:\n",
    "        reader = csv.DictReader(file)\n",
    "        for row in reader:\n",
    "            if row['FIRST NAME'] == name and row['DEPARTMENT'] == department:\n",
    "                print(f\"Welcome, {name}!\")\n",
    "                print(\"Employee Details:\")\n",
    "                print(f\"Surname: {row['SURNAME']}\")\n",
    "                print(f\"First Name: {row['FIRST NAME']}\")\n",
    "                print(f\"Department: {row['DEPARTMENT']}\")\n",
    "                print(\"jt-ventrues.csv dataset is attached\")\n",
    "                return\n",
    "        print(\"Employee does not exist.\")\n",
    "\n",
    "# Example usage\n",
    "verify_employee()"
   ]
  },
  {
   "cell_type": "code",
   "execution_count": 4,
   "metadata": {},
   "outputs": [
    {
     "name": "stdout",
     "output_type": "stream",
     "text": [
      "Welcome To Yega Logistics Services\n",
      "Delivery service to Ibeju-lekki community and Epe\n",
      "Input weight of the package (in KG): 40000\n",
      "Input destination (Epe or Ibeju-lekki): epe\n",
      "Price of delivery = ₦5000\n"
     ]
    }
   ],
   "source": [
    "# Project 2\n",
    "# python function program that tells a user how much to pay, based on their location, and package weight. \n",
    "\n",
    "print('Welcome To Yega Logistics Services')\n",
    "print(\"Delivery service to Ibeju-lekki community and Epe\")\n",
    "\n",
    "weight = float(input(\"Input weight of the package (in KG): \"))\n",
    "location = input(\"Input destination (Epe or Ibeju-lekki): \")\n",
    "\n",
    "if weight < 10 and location == str.casefold('Epe'):\n",
    "    print(\"Price of delivery = ₦4000\")\n",
    "\n",
    "elif weight < 10 and location == str.casefold('Ibeju-Lekki'):\n",
    "    print(\"Price of delivery = ₦1500\")\n",
    "\n",
    "elif weight >= 10 and location == str.casefold('Ibeju-Lekki'):\n",
    "    print(\"Price of delivery = ₦2000\")\n",
    "\n",
    "elif weight >= 10 and location == str.casefold('Epe'):\n",
    "    print(\"Price of delivery = ₦5000\")\n",
    "\n",
    "else:\n",
    "    print(\"Delivery to only Ibeju-Lekki and Epe\")"
   ]
  },
  {
   "cell_type": "code",
   "execution_count": 1,
   "metadata": {},
   "outputs": [
    {
     "name": "stdout",
     "output_type": "stream",
     "text": [
      "Sorry, the candidate does not meet the admission requirements.\n"
     ]
    }
   ],
   "source": [
    "# Project 3\n",
    "# Python function program that tells a particular candidate if he/she is admitted into computer science, based on their inputs. \n",
    "\n",
    "import csv\n",
    "\n",
    "def check_admission(candidate):\n",
    "    jamb_score = candidate.get('jamb_score')\n",
    "    subject_credits = candidate.get('subject_credits')\n",
    "    interview_passed = candidate.get('interview_passed')\n",
    "\n",
    "    if jamb_score >= 230 and subject_credits >= 5 and interview_passed:\n",
    "        return True\n",
    "    else:\n",
    "        return False\n",
    "\n",
    "def save_to_csv(candidate, admitted):\n",
    "    with open(admitted, 'a', newline='') as csvfile:\n",
    "        writer = csv.writer(csvfile)\n",
    "        writer.writerow(candidate.values())\n",
    "\n",
    "def admission_process():\n",
    "    candidate = {}\n",
    "    candidate['Name'] = input(\"Enter Candidate's name: \")\n",
    "    candidate['jamb_score'] = int(input(\"Enter JAMB score: \"))\n",
    "    candidate['subject_credits'] = int(input(\"Enter number of credits in key subjects: \"))\n",
    "    candidate['interview_passed'] = input(\"Did the candidate pass the interview? (yes/no): \").lower() == 'yes'\n",
    "\n",
    "    if check_admission(candidate):\n",
    "        save_to_csv(candidate, 'admitted.csv')\n",
    "        print(\"Congratulations! Candidate admitted to Computer Science Department.\")\n",
    "    else:\n",
    "        save_to_csv(candidate, 'not-admitted.csv')\n",
    "        print(\"Sorry, the candidate does not meet the admission requirements.\")\n",
    "\n",
    "admission_process()\n"
   ]
  }
 ],
 "metadata": {
  "kernelspec": {
   "display_name": "Python 3",
   "language": "python",
   "name": "python3"
  },
  "language_info": {
   "codemirror_mode": {
    "name": "ipython",
    "version": 3
   },
   "file_extension": ".py",
   "mimetype": "text/x-python",
   "name": "python",
   "nbconvert_exporter": "python",
   "pygments_lexer": "ipython3",
   "version": "3.11.2"
  }
 },
 "nbformat": 4,
 "nbformat_minor": 4
}
