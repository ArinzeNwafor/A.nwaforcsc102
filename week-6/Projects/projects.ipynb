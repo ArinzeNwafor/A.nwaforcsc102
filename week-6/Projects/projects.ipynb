{
 "cells": [
  {
   "cell_type": "code",
   "execution_count": 1,
   "metadata": {},
   "outputs": [
    {
     "name": "stdout",
     "output_type": "stream",
     "text": [
      "   Unnamed: 0                          App Name  \\\n",
      "0           1              Google Play services   \n",
      "1           2                           YouTube   \n",
      "2           3                            Google   \n",
      "3           4  Google Maps - Navigate & Explore   \n",
      "4           5             Google Text-to-Speech   \n",
      "5           6      Google Chrome: Fast & Secure   \n",
      "6           7                             Gmail   \n",
      "\n",
      "                                    App Id                 Category  \\\n",
      "0                   com.google.android.gms                    Tools   \n",
      "1               com.google.android.youtube  Video Players & Editors   \n",
      "2  com.google.android.googlequicksearchbox                    Tools   \n",
      "3             com.google.android.apps.maps           Travel & Local   \n",
      "4                   com.google.android.tts                    Tools   \n",
      "5                       com.android.chrome            Communication   \n",
      "6                    com.google.android.gm            Communication   \n",
      "\n",
      "  Developer Id                                  Developer Website  \\\n",
      "0   Google LLC  https://developers.google.com/android/google-p...   \n",
      "1   Google LLC  https://support.google.com/youtube/topic/24225...   \n",
      "2   Google LLC               https://www.google.com/search/about/   \n",
      "3   Google LLC                      http://maps.google.com/about/   \n",
      "4   Google LLC                             http://www.google.com/   \n",
      "5   Google LLC               http://www.google.com/chrome/android   \n",
      "6   Google LLC  http://support.google.com/mail/bin/topic.py?hl...   \n",
      "\n",
      "                Developer Email Content Rating  Ad Supported  In App Purchases  \n",
      "0          apps-help@google.com       Everyone         False             False  \n",
      "1  ytandroid-support@google.com           Teen          True             False  \n",
      "2          apps-help@google.com       Everyone          True             False  \n",
      "3          apps-help@google.com       Everyone          True             False  \n",
      "4       tts-feedback@google.com       Everyone         False             False  \n",
      "5          apps-help@google.com       Everyone         False             False  \n",
      "6          apps-help@google.com       Everyone          True             False  \n",
      "   id           file_path  file_size  line_count extension  language\n",
      "0   1  Markdown/000001.md      34784         572        md  Markdown\n",
      "1   2    XML/000002.props       3013          44     props       XML\n",
      "2   3     Text/000003.txt       1076          21       txt      Text\n",
      "3   4  Markdown/000004.md       8105          84        md  Markdown\n",
      "4   5  Markdown/000005.md       2763          41        md  Markdown\n",
      "5   6  Markdown/000006.md       2030          32        md  Markdown\n",
      "6   7    JSON/000007.json        591          19      json      JSON\n"
     ]
    }
   ],
   "source": [
    "import pandas as pd\n",
    "\n",
    "data = pd.read_csv(\"Top apps.csv\")\n",
    "\n",
    "df = data.iloc[0 : 7]\n",
    "\n",
    "\n",
    "print(df)\n",
    "\n",
    "dat = pd.read_csv(\"dataset.csv\")\n",
    "\n",
    "dg = dat.iloc[0 : 7]\n",
    "\n",
    "print(dg)"
   ]
  },
  {
   "cell_type": "code",
   "execution_count": 2,
   "metadata": {},
   "outputs": [
    {
     "name": "stdout",
     "output_type": "stream",
     "text": [
      "                      SEGMENTS  \\\n",
      "0       Refereshment Beverages   \n",
      "1                Confectionery   \n",
      "2  Intermediate Cocoa Products   \n",
      "\n",
      "                                            PRODUCTS  \\\n",
      "0                        Bournvita and Hot Chocolate   \n",
      "1                             Tom Tom and Buttermint   \n",
      "2  Cocoa powder, Cocoa butter, Cocoa liquor and C...   \n",
      "\n",
      "                                              BRANDS              EXPORT  \n",
      "0  Cadbury-Bournvita and Cadbury 3 in 1 Hot-Choco...  Non-Export Product  \n",
      "1  Tom Tom Classic, Tom Tom Strawberry and Butter...  Non-Export Product  \n",
      "2                      Cocoa Powder and Cocoa Butter      Export Product  \n"
     ]
    }
   ],
   "source": [
    "import pandas as pd\n",
    "\n",
    "cadbury = {'SEGMENTS': ['Refereshment Beverages', 'Confectionery', 'Intermediate Cocoa Products'],\n",
    "           'PRODUCTS' : ['Bournvita and Hot Chocolate', ' Tom Tom and Buttermint', 'Cocoa powder, Cocoa butter, Cocoa liquor and Cocoa Cake'],\n",
    "           'BRANDS' : ['Cadbury-Bournvita and Cadbury 3 in 1 Hot-Chocolate', 'Tom Tom Classic, Tom Tom Strawberry and Buttermint', 'Cocoa Powder and Cocoa Butter'],\n",
    "           'EXPORT' : ['Non-Export Product', 'Non-Export Product', 'Export Product']}\n",
    "\n",
    "df = pd.DataFrame(cadbury)\n",
    "\n",
    "df.to_csv(\"Cadbury_market.csv\")\n",
    "print(df)"
   ]
  },
  {
   "cell_type": "code",
   "execution_count": null,
   "metadata": {},
   "outputs": [],
   "source": []
  }
 ],
 "metadata": {
  "kernelspec": {
   "display_name": "Python 3",
   "language": "python",
   "name": "python3"
  },
  "language_info": {
   "codemirror_mode": {
    "name": "ipython",
    "version": 3
   },
   "file_extension": ".py",
   "mimetype": "text/x-python",
   "name": "python",
   "nbconvert_exporter": "python",
   "pygments_lexer": "ipython3",
   "version": "3.8.3"
  }
 },
 "nbformat": 4,
 "nbformat_minor": 1
}
