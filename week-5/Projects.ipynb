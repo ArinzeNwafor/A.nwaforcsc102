{
 "cells": [
  {
   "cell_type": "code",
   "execution_count": 1,
   "metadata": {},
   "outputs": [
    {
     "name": "stdout",
     "output_type": "stream",
     "text": [
      "GIRLS\n",
      "NAME   AGE   HT  SCR\n",
      "Samantha 17 5.5 80\n",
      "Jada 16 6.0 85\n",
      "Jane 17 5.4 70\n",
      "Claire 18 5.9 60\n",
      "Elizabeth 16 5.6 76\n",
      "Mary 18 5.5 66\n",
      "Susan 17 6.1 87\n",
      "Waje 20 6.0 95\n",
      "Taibat 19 5.7 50\n",
      "Lilian 17 5.5 49\n",
      "Boys\n",
      "NAME   AGE   HT  SCR\n",
      "Charles 19 5.5 80\n",
      "Jude 16 6.0 85\n",
      "James 18 5.4 70\n",
      "Kelvin 17 5.9 60\n",
      "Biodun 20 5.6 76\n",
      "Wale 19 5.5 66\n",
      "Kunle 16 6.1 87\n",
      "Matthew 18 6.0 95\n",
      "Tom 17 5.7 50\n",
      "Kayode 19 5.5 49\n"
     ]
    }
   ],
   "source": [
    "print(\"GIRLS\")\n",
    "print(\"NAME   AGE   HT  SCR\")\n",
    "\n",
    "girls = ['Samantha', 'Jada', 'Jane', 'Claire', 'Elizabeth', 'Mary', 'Susan',\n",
    "         'Waje', 'Taibat', 'Lilian']\n",
    "\n",
    "g_age = [17,16,17,18,16,18,17,20,19,17]\n",
    "g_height = [5.5,6.0,5.4,5.9,5.6,5.5,6.1,6.0,5.7,5.5]\n",
    "g_scores = [80,85,70,60,76,66,87,95,50,49]\n",
    "\n",
    "for num in range(10):\n",
    "    print(girls[num], g_age[num], g_height[num], g_scores[num])\n",
    "\n",
    "print(\"Boys\")\n",
    "print(\"NAME   AGE   HT  SCR\")\n",
    "boys = ['Charles', 'Jude', 'James', 'Kelvin', 'Biodun', 'Wale', 'Kunle', 'Matthew', 'Tom', 'Kayode']\n",
    "b_age = [19,16,18,17,20,19,16,18,17,19]\n",
    "b_height = [5.5,6.0,5.4,5.9,5.6,5.5,6.1,6.0,5.7,5.5]\n",
    "b_scores = [80,85,70,60,76,66,87,95,50,49]\n",
    "\n",
    "for i in range(10):\n",
    "    print(boys[i], b_age[i], b_height[i], b_scores[i])\n"
   ]
  },
  {
   "cell_type": "code",
   "execution_count": null,
   "metadata": {},
   "outputs": [],
   "source": []
  }
 ],
 "metadata": {
  "kernelspec": {
   "display_name": "Python 3",
   "language": "python",
   "name": "python3"
  },
  "language_info": {
   "codemirror_mode": {
    "name": "ipython",
    "version": 3
   },
   "file_extension": ".py",
   "mimetype": "text/x-python",
   "name": "python",
   "nbconvert_exporter": "python",
   "pygments_lexer": "ipython3",
   "version": "3.8.3"
  }
 },
 "nbformat": 4,
 "nbformat_minor": 4
}
