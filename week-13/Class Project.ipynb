{
 "cells": [
  {
   "cell_type": "code",
   "execution_count": 1,
   "metadata": {},
   "outputs": [
    {
     "name": "stdout",
     "output_type": "stream",
     "text": [
      "Enter student name (or 'x' to quit): Arinze Nwafor\n",
      "Enter matriculation number: 22120613019\n",
      "Enter department: Computer Science\n",
      "Enter level: 100\n",
      "Enter student name (or 'x' to quit): Judge Femi\n",
      "Enter matriculation number: 2239727801\n",
      "Enter department: Accounting\n",
      "Enter level: 200\n",
      "Enter student name (or 'x' to quit): Adaora Chukwu\n",
      "Enter matriculation number: 22120934567\n",
      "Enter department: 300\n",
      "Enter level: 100\n",
      "Enter student name (or 'x' to quit): x\n",
      "Student details saved successfully!\n"
     ]
    }
   ],
   "source": [
    "# Importing pandas library\n",
    "import pandas as pd\n",
    "\n",
    "def student_info(details):\n",
    "    df = pd.DataFrame(details, columns=[\"Student Name\", \"Matriculation Number\", \"Department\", \"Level\"])\n",
    "    df.to_excel(\"student_details.xlsx\", index= False)\n",
    "\n",
    "def main():\n",
    "    student_details = []\n",
    "\n",
    "    while True:\n",
    "        name = input(\"Enter student name (or 'x' to quit): \")\n",
    "        if name == 'x':\n",
    "            break\n",
    "\n",
    "        matriculation_number = input(\"Enter matriculation number: \")\n",
    "        department = input(\"Enter department: \")\n",
    "        level = input(\"Enter level: \")\n",
    "\n",
    "        student_details.append([name, matriculation_number, department, level])\n",
    "\n",
    "    if student_details:\n",
    "        student_info(student_details)\n",
    "        print(\"Student details saved successfully!\")\n",
    "    else:\n",
    "        print(\"No student details entered.\")\n",
    "\n",
    "if __name__ == \"__main__\":\n",
    "    main()\n"
   ]
  },
  {
   "cell_type": "code",
   "execution_count": null,
   "metadata": {},
   "outputs": [],
   "source": []
  }
 ],
 "metadata": {
  "kernelspec": {
   "display_name": "Python 3",
   "language": "python",
   "name": "python3"
  },
  "language_info": {
   "codemirror_mode": {
    "name": "ipython",
    "version": 3
   },
   "file_extension": ".py",
   "mimetype": "text/x-python",
   "name": "python",
   "nbconvert_exporter": "python",
   "pygments_lexer": "ipython3",
   "version": "3.8.3"
  }
 },
 "nbformat": 4,
 "nbformat_minor": 2
}
